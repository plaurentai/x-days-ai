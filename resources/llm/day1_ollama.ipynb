{
 "cells": [
  {
   "cell_type": "markdown",
   "id": "c2ec21ec",
   "metadata": {},
   "source": [
    "### STEP 1 - Import the necessary packages"
   ]
  },
  {
   "cell_type": "code",
   "execution_count": null,
   "id": "d5f5dd25",
   "metadata": {},
   "outputs": [],
   "source": [
    "# STEP 1 - Import the necessary packages\n",
    "\n",
    "import ollama\n",
    "import requests\n",
    "from bs4 import BeautifulSoup\n",
    "from IPython.display import Markdown, display\n"
   ]
  },
  {
   "cell_type": "code",
   "execution_count": 4,
   "id": "cfe66f35",
   "metadata": {},
   "outputs": [],
   "source": [
    "# STEP 2: Basic configuration parameters for the ollama API\n",
    "\n",
    "OLLAMA_API = \"http://localhost:11434/api/chat\"\n",
    "HEADERS = {\"Content-Type\":\"application/json\"}\n",
    "MODEL = \"llama3.2\""
   ]
  },
  {
   "cell_type": "code",
   "execution_count": null,
   "id": "c2c81542",
   "metadata": {},
   "outputs": [
    {
     "data": {
      "text/markdown": [
       "Welcome! It's great to meet you for the first time. I'm excited to chat with you and help answer any questions or topics you'd like to discuss. I'm here to provide information, assistance, and a friendly conversation.\n",
       "\n",
       "To get us started, how can I help you today? Is there something specific on your mind that you'd like to talk about, or do you just want to see where the conversation takes us?"
      ],
      "text/plain": [
       "<IPython.core.display.Markdown object>"
      ]
     },
     "metadata": {},
     "output_type": "display_data"
    }
   ],
   "source": [
    "# STEP 3: Send a message to the model and the model response is displayed in markdown\n",
    "# I am simply testing the model with a simple message\n",
    "\n",
    "message = \"Hello, GPT! This is my first ever message to you! Hi!\"\n",
    "response = ollama.chat(model=MODEL, messages=[{\"role\":\"user\", \"content\":message}])\n",
    "display(Markdown(response.message.content))"
   ]
  },
  {
   "cell_type": "code",
   "execution_count": null,
   "id": "68023adb",
   "metadata": {},
   "outputs": [],
   "source": [
    "# STEP 4: Create a class that will be used to represent a website \n",
    "# we are using BeautifulSoup to parse the website and remove the irrelevant tags \n",
    "\n",
    "# some websites need you to use proper header when fetching them:\n",
    "headers = {\n",
    " \"User-Agent\": \"Mozilla/5.0 (Windows NT 10.0; Win64; x64) AppleWebKit/537.36 (KHTML, like Gecko) Chrome/117.0.0.0 Safari/537.36\"\n",
    "}\n",
    "\n",
    "\n",
    "class Website:\n",
    "\n",
    "    def __init__(self, url):\n",
    "        \"\"\"\n",
    "        Create this Website object from the given url using the BeautifulSoup library\n",
    "        \"\"\"\n",
    "        self.url = url\n",
    "        response = requests.get(url, headers=headers) # get the response from the url\n",
    "        soup = BeautifulSoup(response.content, 'html.parser') # parse the response content\n",
    "        self.title = soup.title.string if soup.title else \"No title found\"\n",
    "        for irrelevant in soup.body([\"script\", \"style\", \"img\", \"input\"]): # remove the script, style, img, and input tags\n",
    "            irrelevant.decompose() # remove the tags\n",
    "        self.text = soup.body.get_text(separator=\"\\n\", strip=True) # what is left is the text of the website\n",
    "\n",
    "# what is BeautifulSoup?\n",
    "# BeautifulSoup is a library that allows you to parse HTML and XML documents.\n",
    "# It provides a simple interface for navigating, searching, and modifying the parse tree.\n",
    "# It is a powerful tool for web scraping and data extraction.  "
   ]
  },
  {
   "cell_type": "code",
   "execution_count": null,
   "id": "9346d809",
   "metadata": {},
   "outputs": [
    {
     "name": "stdout",
     "output_type": "stream",
     "text": [
      "Home - Edward Donner\n",
      "Home\n",
      "Connect Four\n",
      "Outsmart\n",
      "An arena that pits LLMs against each other in a battle of diplomacy and deviousness\n",
      "About\n",
      "Posts\n",
      "Well, hi there.\n",
      "I’m Ed. I like writing code and experimenting with LLMs, and hopefully you’re here because you do too. I also enjoy DJing (but I’m badly out of practice), amateur electronic music production (\n",
      "very\n",
      "amateur) and losing myself in\n",
      "Hacker News\n",
      ", nodding my head sagely to things I only half understand.\n",
      "I’m the co-founder and CTO of\n",
      "Nebula.io\n",
      ". We’re applying AI to a field where it can make a massive, positive impact: helping people discover their potential and pursue their reason for being. Recruiters use our product today to source, understand, engage and manage talent. I’m previously the founder and CEO of AI startup untapt,\n",
      "acquired in 2021\n",
      ".\n",
      "We work with groundbreaking, proprietary LLMs verticalized for talent, we’ve\n",
      "patented\n",
      "our matching model, and our award-winning platform has happy customers and tons of press coverage.\n",
      "Connect\n",
      "with me for more!\n",
      "May 28, 2025\n",
      "Connecting my courses – become an LLM expert and leader\n",
      "May 18, 2025\n",
      "2025 AI Executive Briefing\n",
      "April 21, 2025\n",
      "The Complete Agentic AI Engineering Course\n",
      "January 23, 2025\n",
      "LLM Workshop – Hands-on with Agents – resources\n",
      "Navigation\n",
      "Home\n",
      "Connect Four\n",
      "Outsmart\n",
      "An arena that pits LLMs against each other in a battle of diplomacy and deviousness\n",
      "About\n",
      "Posts\n",
      "Get in touch\n",
      "ed [at] edwarddonner [dot] com\n",
      "www.edwarddonner.com\n",
      "Follow me\n",
      "LinkedIn\n",
      "Twitter\n",
      "Facebook\n",
      "Subscribe to newsletter\n",
      "Type your email…\n",
      "Subscribe\n"
     ]
    }
   ],
   "source": [
    "# STEP 5: let's scrape the website\n",
    "\n",
    "ed = Website(\"https://edwarddonner.com\") # create a website object\n",
    "print(ed.title)\n",
    "print(ed.text)\n"
   ]
  },
  {
   "cell_type": "code",
   "execution_count": null,
   "id": "202a4976",
   "metadata": {},
   "outputs": [],
   "source": [
    "# STEP 8: define the system prompt\n",
    "system_prompt = \"You are an assistant that analyzes the contents of a website \\\n",
    "and provides a short summary, ignoring text that might be navigation related. \\\n",
    "Respond in markdown\""
   ]
  },
  {
   "cell_type": "code",
   "execution_count": null,
   "id": "4617e5a1",
   "metadata": {},
   "outputs": [],
   "source": [
    "# STEP 9: A function to create the user prompt incorporating the website's title and text\n",
    "\n",
    "def user_prompt_for(website):\n",
    "    user_prompt = f\"You are looking at a website titled {website.title}\"\n",
    "    user_prompt += \"\\nThe contents of this website is as follows; \\\n",
    "please provide a short summary of this website in markdown. \\\n",
    "If it includes news or announcements, then summarize these too.\\n\\n\"\n",
    "    user_prompt += website.text\n",
    "    return user_prompt\n",
    "\n"
   ]
  },
  {
   "cell_type": "code",
   "execution_count": 43,
   "id": "43b8d17b",
   "metadata": {},
   "outputs": [
    {
     "name": "stdout",
     "output_type": "stream",
     "text": [
      "You are looking at a website titled Home - Edward Donner\n",
      "The contents of this website is as follows; please provide a short summary of this website in markdown. If it includes news or announcements, then summarize these too.\n",
      "\n",
      "Home\n",
      "Connect Four\n",
      "Outsmart\n",
      "An arena that pits LLMs against each other in a battle of diplomacy and deviousness\n",
      "About\n",
      "Posts\n",
      "Well, hi there.\n",
      "I’m Ed. I like writing code and experimenting with LLMs, and hopefully you’re here because you do too. I also enjoy DJing (but I’m badly out of practice), amateur electronic music production (\n",
      "very\n",
      "amateur) and losing myself in\n",
      "Hacker News\n",
      ", nodding my head sagely to things I only half understand.\n",
      "I’m the co-founder and CTO of\n",
      "Nebula.io\n",
      ". We’re applying AI to a field where it can make a massive, positive impact: helping people discover their potential and pursue their reason for being. Recruiters use our product today to source, understand, engage and manage talent. I’m previously the founder and CEO of AI startup untapt,\n",
      "acquired in 2021\n",
      ".\n",
      "We work with groundbreaking, proprietary LLMs verticalized for talent, we’ve\n",
      "patented\n",
      "our matching model, and our award-winning platform has happy customers and tons of press coverage.\n",
      "Connect\n",
      "with me for more!\n",
      "May 28, 2025\n",
      "Connecting my courses – become an LLM expert and leader\n",
      "May 18, 2025\n",
      "2025 AI Executive Briefing\n",
      "April 21, 2025\n",
      "The Complete Agentic AI Engineering Course\n",
      "January 23, 2025\n",
      "LLM Workshop – Hands-on with Agents – resources\n",
      "Navigation\n",
      "Home\n",
      "Connect Four\n",
      "Outsmart\n",
      "An arena that pits LLMs against each other in a battle of diplomacy and deviousness\n",
      "About\n",
      "Posts\n",
      "Get in touch\n",
      "ed [at] edwarddonner [dot] com\n",
      "www.edwarddonner.com\n",
      "Follow me\n",
      "LinkedIn\n",
      "Twitter\n",
      "Facebook\n",
      "Subscribe to newsletter\n",
      "Type your email…\n",
      "Subscribe\n"
     ]
    }
   ],
   "source": [
    "# STEP 10: let's see how the \n",
    "print(user_prompt_for(ed))"
   ]
  },
  {
   "cell_type": "code",
   "execution_count": 44,
   "id": "0bf37bf5",
   "metadata": {},
   "outputs": [],
   "source": [
    "# STEP 11: This function to create the messages for the ollama API\n",
    "# it includes the system prompt and the user prompt for the website\n",
    "# REMEMBER:\n",
    "# the system prompt is the prompt that the model will use to understand the website\n",
    "# the user prompt is the prompt that the model will use to summarize the website\n",
    "def messages_for(website):\n",
    "    return [\n",
    "        {\"role\": \"system\", \"content\": system_prompt},\n",
    "        {\"role\": \"user\", \"content\": user_prompt_for(website)}\n",
    "    ]"
   ]
  },
  {
   "cell_type": "code",
   "execution_count": 45,
   "id": "5df5cbee",
   "metadata": {},
   "outputs": [
    {
     "data": {
      "text/plain": [
       "[{'role': 'system',\n",
       "  'content': 'You are an assistant that analyzes the contents of a website and provides a short summary, ignoring text that might be navigation related. Respond in markdown'},\n",
       " {'role': 'user',\n",
       "  'content': 'You are looking at a website titled Home - Edward Donner\\nThe contents of this website is as follows; please provide a short summary of this website in markdown. If it includes news or announcements, then summarize these too.\\n\\nHome\\nConnect Four\\nOutsmart\\nAn arena that pits LLMs against each other in a battle of diplomacy and deviousness\\nAbout\\nPosts\\nWell, hi there.\\nI’m Ed. I like writing code and experimenting with LLMs, and hopefully you’re here because you do too. I also enjoy DJing (but I’m badly out of practice), amateur electronic music production (\\nvery\\namateur) and losing myself in\\nHacker News\\n, nodding my head sagely to things I only half understand.\\nI’m the co-founder and CTO of\\nNebula.io\\n. We’re applying AI to a field where it can make a massive, positive impact: helping people discover their potential and pursue their reason for being. Recruiters use our product today to source, understand, engage and manage talent. I’m previously the founder and CEO of AI startup untapt,\\nacquired in 2021\\n.\\nWe work with groundbreaking, proprietary LLMs verticalized for talent, we’ve\\npatented\\nour matching model, and our award-winning platform has happy customers and tons of press coverage.\\nConnect\\nwith me for more!\\nMay 28, 2025\\nConnecting my courses – become an LLM expert and leader\\nMay 18, 2025\\n2025 AI Executive Briefing\\nApril 21, 2025\\nThe Complete Agentic AI Engineering Course\\nJanuary 23, 2025\\nLLM Workshop – Hands-on with Agents – resources\\nNavigation\\nHome\\nConnect Four\\nOutsmart\\nAn arena that pits LLMs against each other in a battle of diplomacy and deviousness\\nAbout\\nPosts\\nGet in touch\\ned [at] edwarddonner [dot] com\\nwww.edwarddonner.com\\nFollow me\\nLinkedIn\\nTwitter\\nFacebook\\nSubscribe to newsletter\\nType your email…\\nSubscribe'}]"
      ]
     },
     "execution_count": 45,
     "metadata": {},
     "output_type": "execute_result"
    }
   ],
   "source": [
    "# This is how the message we are sending to the ollama API\n",
    "messages_for(ed)"
   ]
  },
  {
   "cell_type": "code",
   "execution_count": 46,
   "id": "5b1bfffa",
   "metadata": {},
   "outputs": [],
   "source": [
    "# STEP 12: This function is used to summarize a website\n",
    "# it creates a website object and then calls the ollama API with the messages for the website\n",
    "# it returns the response from the ollama API\n",
    "\n",
    "def summarize(url):\n",
    "    website = Website(url)\n",
    "    response = ollama.chat(model=MODEL, messages=messages_for(website))\n",
    "    return response.message.content"
   ]
  },
  {
   "cell_type": "code",
   "execution_count": null,
   "id": "2772a8d0",
   "metadata": {},
   "outputs": [
    {
     "data": {
      "text/plain": [
       "'**Summary**\\n\\nThis website belongs to Edward Donner, a co-founder and CTO of Nebula.io. He is an AI enthusiast who writes about his experiences with Large Language Models (LLMs) and shares updates on his projects.\\n\\n### News/Announcements\\n\\n* **Courses and Workshops**: Upcoming courses include \"Connecting my courses\" and \"The Complete Agentic AI Engineering Course\", as well as a LLM Workshop.\\n* **Events**: Announcements for 2025 AI Executive Briefings, taking place on April 21st.\\n* **New Product Release**: No specific mention, but Edward mentions that Nebula.io\\'s award-winning platform has press coverage and happy customers.\\n\\n### General Information\\n\\nThe website also includes links to social media profiles, a newsletter subscription form, and contact information (ed [at] edwarddonner [dot] com).'"
      ]
     },
     "execution_count": 47,
     "metadata": {},
     "output_type": "execute_result"
    }
   ],
   "source": [
    "# STEP 13: This function is called to summarize a website\n",
    "# it returns the response from the ollama API in markdown format\n",
    "summarize(ed.url)"
   ]
  },
  {
   "cell_type": "code",
   "execution_count": 48,
   "id": "0e0a9d05",
   "metadata": {},
   "outputs": [],
   "source": [
    "# STEP 14: This function displays the website summary nicely in the Jupyter output, using markdown\n",
    "\n",
    "def display_summary(url):\n",
    "    summary = summarize(url)\n",
    "    display(Markdown(summary))"
   ]
  },
  {
   "cell_type": "code",
   "execution_count": 49,
   "id": "980dd238",
   "metadata": {},
   "outputs": [
    {
     "data": {
      "text/markdown": [
       "**Summary**\n",
       "================\n",
       "\n",
       "* The website is run by Ed, the co-founder and CTO of Nebula.io, an AI startup that applies AI to help people discover their potential.\n",
       "* The company's product is used by recruiters to source, understand, engage, and manage talent.\n",
       "* Ed also runs online courses on LLMs (Large Language Models) and has a newsletter.\n",
       "\n",
       "**News/Announcements**\n",
       "=====================\n",
       "\n",
       "* **May 28, 2025**: \"Connecting my courses – become an LLM expert and leader\"\n",
       "* **May 18, 2025**: \"2025 AI Executive Briefing\" (no further details available)\n",
       "* **April 21, 2025**: No further details available\n",
       "* **January 23, 2025**: \"The Complete Agentic AI Engineering Course\" (no further details available)\n",
       "* **LLM Workshop – Hands-on with Agents – resources** (no date or details available)"
      ],
      "text/plain": [
       "<IPython.core.display.Markdown object>"
      ]
     },
     "metadata": {},
     "output_type": "display_data"
    }
   ],
   "source": [
    "# This function calls the summarize function and displays the summary in markdown format\n",
    "display_summary(ed.url)"
   ]
  },
  {
   "cell_type": "code",
   "execution_count": null,
   "id": "5a3799ab",
   "metadata": {},
   "outputs": [
    {
     "data": {
      "text/markdown": [
       "This is the homepage of Investor's Business Daily (IBD), a financial news organization that provides stock lists, market data, and research to help investors make more money in the stock market.\n",
       "\n",
       "The page features various tools and resources for investors, including:\n",
       "\n",
       "1. **Stock Lists**: IBD offers several stock lists, including:\n",
       "\t* IBD 50: A list of top stocks showing strong price action and earnings growth.\n",
       "\t* Sector Rotation: A list of sectors that are experiencing rotation and potential upside.\n",
       "\t* Leaderboard: A model portfolio of the best 10-15 stocks to buy.\n",
       "2. **Market Data**: IBD provides real-time stock quotes, charts, and news to help investors stay up-to-date on market performance.\n",
       "3. **Research and Analysis**: IBD offers in-depth research reports, analysis, and commentary on individual stocks and sectors.\n",
       "4. **Premium Tools**: IBD offers several premium tools for advanced investors, including:\n",
       "\t* MarketSurge: A tool that helps investors find undervalued stocks with strong growth potential.\n",
       "\t* SwingTrader: A tool that provides trade ideas and market analysis.\n",
       "\t* IBD Digital: A digital platform that provides access to IBD's research reports, analysis, and tools.\n",
       "5. **News and Commentary**: IBD features news articles, commentary, and analysis on various financial topics.\n",
       "\n",
       "Overall, the page is designed to provide investors with the information and resources they need to make informed investment decisions.\n",
       "\n",
       "**Key Features**\n",
       "\n",
       "* Real-time stock quotes and charts\n",
       "* Research reports and analysis on individual stocks and sectors\n",
       "* Model portfolio and trade ideas through Leaderboard and SwingTrader\n",
       "* Premium tools for advanced investors\n",
       "* News and commentary on various financial topics\n",
       "\n",
       "**Target Audience**\n",
       "\n",
       "* Individual investors looking to make more money in the stock market.\n",
       "* Active traders seeking trade ideas and market analysis.\n",
       "* Advanced investors interested in premium tools and research reports.\n",
       "\n",
       "**Tone and Style**\n",
       "\n",
       "* Informative and educational, with a focus on helping investors make informed decisions.\n",
       "* Engaging and accessible, with clear explanations of complex financial concepts.\n",
       "* Objective and unbiased, with no recommendations or solicitations to buy or sell securities."
      ],
      "text/plain": [
       "<IPython.core.display.Markdown object>"
      ]
     },
     "metadata": {},
     "output_type": "display_data"
    }
   ],
   "source": [
    "# Another website to summarize\n",
    "\n",
    "display_summary(\"https://investors.com\")"
   ]
  },
  {
   "cell_type": "code",
   "execution_count": null,
   "id": "149f69f6",
   "metadata": {},
   "outputs": [],
   "source": []
  }
 ],
 "metadata": {
  "kernelspec": {
   "display_name": ".venv",
   "language": "python",
   "name": "python3"
  },
  "language_info": {
   "codemirror_mode": {
    "name": "ipython",
    "version": 3
   },
   "file_extension": ".py",
   "mimetype": "text/x-python",
   "name": "python",
   "nbconvert_exporter": "python",
   "pygments_lexer": "ipython3",
   "version": "3.12.11"
  }
 },
 "nbformat": 4,
 "nbformat_minor": 5
}
